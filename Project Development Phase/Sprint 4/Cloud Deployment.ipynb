{
 "cells": [
  {
   "cell_type": "markdown",
   "metadata": {},
   "source": [
    "## **Cloud Depolyment**"
   ]
  },
  {
   "cell_type": "code",
   "execution_count": 1,
   "metadata": {},
   "outputs": [],
   "source": [
    "from tensorflow.keras.models import load_model"
   ]
  },
  {
   "cell_type": "code",
   "execution_count": 2,
   "metadata": {},
   "outputs": [
    {
     "name": "stdout",
     "output_type": "stream",
     "text": [
      "Collecting ibm_watson_machine_learning\n",
      "  Downloading ibm_watson_machine_learning-1.0.257-py3-none-any.whl (1.8 MB)\n",
      "     ---------------------------------------- 1.8/1.8 MB 1.8 MB/s eta 0:00:00\n",
      "Requirement already satisfied: packaging in c:\\users\\elcot\\appdata\\local\\programs\\python\\python310\\lib\\site-packages (from ibm_watson_machine_learning) (21.3)\n",
      "Collecting importlib-metadata\n",
      "  Downloading importlib_metadata-5.0.0-py3-none-any.whl (21 kB)\n",
      "Requirement already satisfied: pandas<1.5.0,>=0.24.2 in c:\\users\\elcot\\appdata\\local\\programs\\python\\python310\\lib\\site-packages (from ibm_watson_machine_learning) (1.4.3)\n",
      "Requirement already satisfied: urllib3 in c:\\users\\elcot\\appdata\\local\\programs\\python\\python310\\lib\\site-packages (from ibm_watson_machine_learning) (1.26.9)\n",
      "Collecting ibm-cos-sdk==2.12.*\n",
      "  Downloading ibm-cos-sdk-2.12.0.tar.gz (55 kB)\n",
      "     -------------------------------------- 55.6/55.6 kB 582.2 kB/s eta 0:00:00\n",
      "  Preparing metadata (setup.py): started\n",
      "  Preparing metadata (setup.py): finished with status 'done'\n",
      "Collecting tabulate\n",
      "  Downloading tabulate-0.9.0-py3-none-any.whl (35 kB)\n",
      "Requirement already satisfied: requests in c:\\users\\elcot\\appdata\\local\\programs\\python\\python310\\lib\\site-packages (from ibm_watson_machine_learning) (2.27.1)\n",
      "Collecting lomond\n",
      "  Downloading lomond-0.3.3-py2.py3-none-any.whl (35 kB)\n",
      "Requirement already satisfied: certifi in c:\\users\\elcot\\appdata\\local\\programs\\python\\python310\\lib\\site-packages (from ibm_watson_machine_learning) (2021.10.8)\n",
      "Collecting ibm-cos-sdk-core==2.12.0\n",
      "  Downloading ibm-cos-sdk-core-2.12.0.tar.gz (956 kB)\n",
      "     -------------------------------------- 956.8/956.8 kB 2.3 MB/s eta 0:00:00\n",
      "  Preparing metadata (setup.py): started\n",
      "  Preparing metadata (setup.py): finished with status 'done'\n",
      "Collecting ibm-cos-sdk-s3transfer==2.12.0\n",
      "  Downloading ibm-cos-sdk-s3transfer-2.12.0.tar.gz (135 kB)\n",
      "     -------------------------------------- 135.7/135.7 kB 1.1 MB/s eta 0:00:00\n",
      "  Preparing metadata (setup.py): started\n",
      "  Preparing metadata (setup.py): finished with status 'done'\n",
      "Collecting jmespath<1.0.0,>=0.10.0\n",
      "  Downloading jmespath-0.10.0-py2.py3-none-any.whl (24 kB)\n",
      "Requirement already satisfied: python-dateutil<3.0.0,>=2.8.2 in c:\\users\\elcot\\appdata\\local\\programs\\python\\python310\\lib\\site-packages (from ibm-cos-sdk-core==2.12.0->ibm-cos-sdk==2.12.*->ibm_watson_machine_learning) (2.8.2)\n",
      "Requirement already satisfied: numpy>=1.21.0 in c:\\users\\elcot\\appdata\\local\\programs\\python\\python310\\lib\\site-packages (from pandas<1.5.0,>=0.24.2->ibm_watson_machine_learning) (1.22.3)\n",
      "Requirement already satisfied: pytz>=2020.1 in c:\\users\\elcot\\appdata\\local\\programs\\python\\python310\\lib\\site-packages (from pandas<1.5.0,>=0.24.2->ibm_watson_machine_learning) (2022.1)\n",
      "Requirement already satisfied: charset-normalizer~=2.0.0 in c:\\users\\elcot\\appdata\\local\\programs\\python\\python310\\lib\\site-packages (from requests->ibm_watson_machine_learning) (2.0.12)\n",
      "Requirement already satisfied: idna<4,>=2.5 in c:\\users\\elcot\\appdata\\local\\programs\\python\\python310\\lib\\site-packages (from requests->ibm_watson_machine_learning) (3.3)\n",
      "Collecting zipp>=0.5\n",
      "  Downloading zipp-3.10.0-py3-none-any.whl (6.2 kB)\n",
      "Requirement already satisfied: six>=1.10.0 in c:\\users\\elcot\\appdata\\local\\programs\\python\\python310\\lib\\site-packages (from lomond->ibm_watson_machine_learning) (1.16.0)\n",
      "Requirement already satisfied: pyparsing!=3.0.5,>=2.0.2 in c:\\users\\elcot\\appdata\\local\\programs\\python\\python310\\lib\\site-packages (from packaging->ibm_watson_machine_learning) (3.0.9)\n",
      "Building wheels for collected packages: ibm-cos-sdk, ibm-cos-sdk-core, ibm-cos-sdk-s3transfer\n",
      "  Building wheel for ibm-cos-sdk (setup.py): started\n",
      "  Building wheel for ibm-cos-sdk (setup.py): finished with status 'done'\n",
      "  Created wheel for ibm-cos-sdk: filename=ibm_cos_sdk-2.12.0-py3-none-any.whl size=73930 sha256=51eb3319d00952d0e8774315672b70e8cac12c421b3aa118d5443dc38d60c4f8\n",
      "  Stored in directory: c:\\users\\elcot\\appdata\\local\\pip\\cache\\wheels\\de\\cf\\fb\\8c86f4e3a662cd34ea63c37835a1ff53896c3231011e3f2db1\n",
      "  Building wheel for ibm-cos-sdk-core (setup.py): started\n",
      "  Building wheel for ibm-cos-sdk-core (setup.py): finished with status 'done'\n",
      "  Created wheel for ibm-cos-sdk-core: filename=ibm_cos_sdk_core-2.12.0-py3-none-any.whl size=562962 sha256=abf7cf46948e3d6799710ea9d39f770b510b42a223161fd9ca2df3908ac1e117\n",
      "  Stored in directory: c:\\users\\elcot\\appdata\\local\\pip\\cache\\wheels\\dc\\24\\3d\\8387c624d61a8465622f1ed4ca6cff5f27fbc93c508dfb9b00\n",
      "  Building wheel for ibm-cos-sdk-s3transfer (setup.py): started\n",
      "  Building wheel for ibm-cos-sdk-s3transfer (setup.py): finished with status 'done'\n",
      "  Created wheel for ibm-cos-sdk-s3transfer: filename=ibm_cos_sdk_s3transfer-2.12.0-py3-none-any.whl size=89778 sha256=e14b5c6f98c8c92958e09dab51aa4502555525397c3f9ae7e27ded00cb0e4167\n",
      "  Stored in directory: c:\\users\\elcot\\appdata\\local\\pip\\cache\\wheels\\a0\\40\\08\\833fc119b606353772e9b925bd2f3fb9be600171ec2a287ce2\n",
      "Successfully built ibm-cos-sdk ibm-cos-sdk-core ibm-cos-sdk-s3transfer\n",
      "Installing collected packages: zipp, tabulate, lomond, jmespath, importlib-metadata, ibm-cos-sdk-core, ibm-cos-sdk-s3transfer, ibm-cos-sdk, ibm_watson_machine_learning\n",
      "Successfully installed ibm-cos-sdk-2.12.0 ibm-cos-sdk-core-2.12.0 ibm-cos-sdk-s3transfer-2.12.0 ibm_watson_machine_learning-1.0.257 importlib-metadata-5.0.0 jmespath-0.10.0 lomond-0.3.3 tabulate-0.9.0 zipp-3.10.0\n"
     ]
    },
    {
     "name": "stderr",
     "output_type": "stream",
     "text": [
      "\n",
      "[notice] A new release of pip available: 22.2.1 -> 22.3.1\n",
      "[notice] To update, run: python.exe -m pip install --upgrade pip\n"
     ]
    }
   ],
   "source": [
    "pip install ibm_watson_machine_learning"
   ]
  },
  {
   "cell_type": "code",
   "execution_count": 3,
   "metadata": {},
   "outputs": [
    {
     "name": "stdout",
     "output_type": "stream",
     "text": [
      "Collecting watson-machine-learning-client\n",
      "  Downloading watson_machine_learning_client-1.0.391-py3-none-any.whl (538 kB)\n",
      "     ------------------------------------ 538.9/538.9 kB 545.6 kB/s eta 0:00:00\n",
      "Requirement already satisfied: ibm-cos-sdk in c:\\users\\elcot\\appdata\\local\\programs\\python\\python310\\lib\\site-packages (from watson-machine-learning-client) (2.12.0)\n",
      "Requirement already satisfied: certifi in c:\\users\\elcot\\appdata\\local\\programs\\python\\python310\\lib\\site-packages (from watson-machine-learning-client) (2021.10.8)\n",
      "Requirement already satisfied: urllib3 in c:\\users\\elcot\\appdata\\local\\programs\\python\\python310\\lib\\site-packages (from watson-machine-learning-client) (1.26.9)\n",
      "Requirement already satisfied: requests in c:\\users\\elcot\\appdata\\local\\programs\\python\\python310\\lib\\site-packages (from watson-machine-learning-client) (2.27.1)\n",
      "Collecting tqdm\n",
      "  Downloading tqdm-4.64.1-py2.py3-none-any.whl (78 kB)\n",
      "     -------------------------------------- 78.5/78.5 kB 101.5 kB/s eta 0:00:00\n",
      "Requirement already satisfied: tabulate in c:\\users\\elcot\\appdata\\local\\programs\\python\\python310\\lib\\site-packages (from watson-machine-learning-client) (0.9.0)\n",
      "Requirement already satisfied: lomond in c:\\users\\elcot\\appdata\\local\\programs\\python\\python310\\lib\\site-packages (from watson-machine-learning-client) (0.3.3)\n",
      "Requirement already satisfied: pandas in c:\\users\\elcot\\appdata\\local\\programs\\python\\python310\\lib\\site-packages (from watson-machine-learning-client) (1.4.3)\n",
      "Collecting boto3\n",
      "  Downloading boto3-1.26.9-py3-none-any.whl (132 kB)\n",
      "     ------------------------------------ 132.5/132.5 kB 289.6 kB/s eta 0:00:00\n",
      "Collecting s3transfer<0.7.0,>=0.6.0\n",
      "  Downloading s3transfer-0.6.0-py3-none-any.whl (79 kB)\n",
      "     -------------------------------------- 79.6/79.6 kB 403.1 kB/s eta 0:00:00\n",
      "Requirement already satisfied: jmespath<2.0.0,>=0.7.1 in c:\\users\\elcot\\appdata\\local\\programs\\python\\python310\\lib\\site-packages (from boto3->watson-machine-learning-client) (0.10.0)\n",
      "Collecting botocore<1.30.0,>=1.29.9\n",
      "  Downloading botocore-1.29.9-py3-none-any.whl (9.9 MB)\n",
      "     ---------------------------------------- 9.9/9.9 MB 975.6 kB/s eta 0:00:00\n",
      "Requirement already satisfied: ibm-cos-sdk-core==2.12.0 in c:\\users\\elcot\\appdata\\local\\programs\\python\\python310\\lib\\site-packages (from ibm-cos-sdk->watson-machine-learning-client) (2.12.0)\n",
      "Requirement already satisfied: ibm-cos-sdk-s3transfer==2.12.0 in c:\\users\\elcot\\appdata\\local\\programs\\python\\python310\\lib\\site-packages (from ibm-cos-sdk->watson-machine-learning-client) (2.12.0)\n",
      "Requirement already satisfied: python-dateutil<3.0.0,>=2.8.2 in c:\\users\\elcot\\appdata\\local\\programs\\python\\python310\\lib\\site-packages (from ibm-cos-sdk-core==2.12.0->ibm-cos-sdk->watson-machine-learning-client) (2.8.2)\n",
      "Requirement already satisfied: idna<4,>=2.5 in c:\\users\\elcot\\appdata\\local\\programs\\python\\python310\\lib\\site-packages (from requests->watson-machine-learning-client) (3.3)\n",
      "Requirement already satisfied: charset-normalizer~=2.0.0 in c:\\users\\elcot\\appdata\\local\\programs\\python\\python310\\lib\\site-packages (from requests->watson-machine-learning-client) (2.0.12)\n",
      "Requirement already satisfied: six>=1.10.0 in c:\\users\\elcot\\appdata\\local\\programs\\python\\python310\\lib\\site-packages (from lomond->watson-machine-learning-client) (1.16.0)\n",
      "Requirement already satisfied: numpy>=1.21.0 in c:\\users\\elcot\\appdata\\local\\programs\\python\\python310\\lib\\site-packages (from pandas->watson-machine-learning-client) (1.22.3)\n",
      "Requirement already satisfied: pytz>=2020.1 in c:\\users\\elcot\\appdata\\local\\programs\\python\\python310\\lib\\site-packages (from pandas->watson-machine-learning-client) (2022.1)\n",
      "Requirement already satisfied: colorama in c:\\users\\elcot\\appdata\\local\\programs\\python\\python310\\lib\\site-packages (from tqdm->watson-machine-learning-client) (0.4.5)\n",
      "Installing collected packages: tqdm, botocore, s3transfer, boto3, watson-machine-learning-client\n",
      "Successfully installed boto3-1.26.9 botocore-1.29.9 s3transfer-0.6.0 tqdm-4.64.1 watson-machine-learning-client-1.0.391\n"
     ]
    },
    {
     "name": "stderr",
     "output_type": "stream",
     "text": [
      "\n",
      "[notice] A new release of pip available: 22.2.1 -> 22.3.1\n",
      "[notice] To update, run: python.exe -m pip install --upgrade pip\n"
     ]
    }
   ],
   "source": [
    "!pip install watson-machine-learning-client\n"
   ]
  },
  {
   "cell_type": "code",
   "execution_count": 7,
   "metadata": {},
   "outputs": [
    {
     "data": {
      "text/plain": [
       "<ibm_watson_machine_learning.client.APIClient at 0x2a7bdc065c0>"
      ]
     },
     "execution_count": 7,
     "metadata": {},
     "output_type": "execute_result"
    }
   ],
   "source": [
    "from ibm_watson_machine_learning import APIClient\n",
    "wml_credentials = {\n",
    "    \"url\": \"https://us-south.ml.cloud.ibm.com\",\n",
    "    \"apikey\": \"hG_WGqnHK0z-LMnoESwBesFSDqXVoi0QLkpkGa0ealh1\"\n",
    "}\n",
    "client = APIClient(wml_credentials)\n",
    "client\n"
   ]
  },
  {
   "cell_type": "code",
   "execution_count": 8,
   "metadata": {},
   "outputs": [
    {
     "data": {
      "text/plain": [
       "{'resources': [{'entity': {'compute': [{'crn': 'crn:v1:bluemix:public:pm-20:us-south:a/6a29927b56ad4f36ba9ff38e1140f4f2:7d74e078-494f-4a9c-b666-aec8a8618bf7::',\n",
       "      'guid': '7d74e078-494f-4a9c-b666-aec8a8618bf7',\n",
       "      'name': 'Watson Machine Learning-y6',\n",
       "      'type': 'machine_learning'}],\n",
       "    'description': '',\n",
       "    'name': 'Vehicle',\n",
       "    'scope': {'bss_account_id': '6a29927b56ad4f36ba9ff38e1140f4f2'},\n",
       "    'stage': {'production': False},\n",
       "    'status': {'state': 'active'},\n",
       "    'storage': {'properties': {'bucket_name': '95468f38-c1e7-45bd-98d7-6d948ffbec16',\n",
       "      'bucket_region': 'us-south',\n",
       "      'credentials': {'admin': {'access_key_id': 'b4c954f2f3ca44a4bdffdfa87d8c9ecc',\n",
       "        'api_key': 'fPrsheStx85jad2lSmswLg2J4GlddJt3NFrdBVSpKnHz',\n",
       "        'secret_access_key': 'ca1238f7e37ae9c2bb5d8660ab38804685fdd3b5e14c20bb',\n",
       "        'service_id': 'ServiceId-4edd547f-f5a5-44d6-b601-3ec71e7bc6af'},\n",
       "       'editor': {'access_key_id': '4a22139ee38849e688f1330baa91e42d',\n",
       "        'api_key': 'SF6pMqWrBgBAP-mUR-gtopqNEUvtKmZJaxJgyNkujS5m',\n",
       "        'resource_key_crn': 'crn:v1:bluemix:public:cloud-object-storage:global:a/6a29927b56ad4f36ba9ff38e1140f4f2:2e5b7ef1-9296-42f1-91c9-de297d9585b1::',\n",
       "        'secret_access_key': '8edd7f058567d2c67a17cde00badd5f14719d1bc000bee91',\n",
       "        'service_id': 'ServiceId-683cd255-828d-48a0-864a-274c7b7dd50c'},\n",
       "       'viewer': {'access_key_id': 'b286c0d635ed4857b229e5b4b9f20508',\n",
       "        'api_key': 'BmjrMEgNr8pc-fZOpvT1hZDW5vh7wgFov-4tSHxFHMXz',\n",
       "        'resource_key_crn': 'crn:v1:bluemix:public:cloud-object-storage:global:a/6a29927b56ad4f36ba9ff38e1140f4f2:2e5b7ef1-9296-42f1-91c9-de297d9585b1::',\n",
       "        'secret_access_key': '94832ddca1f42a15f444a89d23e6f256335d7bf91d59b758',\n",
       "        'service_id': 'ServiceId-e6e8ea8d-6244-4f38-b549-fa9edd2dd855'}},\n",
       "      'endpoint_url': 'https://s3.us-south.cloud-object-storage.appdomain.cloud',\n",
       "      'guid': '2e5b7ef1-9296-42f1-91c9-de297d9585b1',\n",
       "      'resource_crn': 'crn:v1:bluemix:public:cloud-object-storage:global:a/6a29927b56ad4f36ba9ff38e1140f4f2:2e5b7ef1-9296-42f1-91c9-de297d9585b1::'},\n",
       "     'type': 'bmcos_object_storage'}},\n",
       "   'metadata': {'created_at': '2022-11-05T09:31:42.309Z',\n",
       "    'creator_id': 'IBMid-666002L40Q',\n",
       "    'id': 'ea1df9bc-26a7-4028-b761-7ba667222aab',\n",
       "    'updated_at': '2022-11-05T09:32:00.325Z',\n",
       "    'url': '/v2/spaces/ea1df9bc-26a7-4028-b761-7ba667222aab'}}]}"
      ]
     },
     "execution_count": 8,
     "metadata": {},
     "output_type": "execute_result"
    }
   ],
   "source": [
    "client.spaces.get_details()\n"
   ]
  },
  {
   "cell_type": "code",
   "execution_count": 9,
   "metadata": {},
   "outputs": [],
   "source": [
    "def guid_from_space_name(client, space_name): \n",
    "    space = client.spaces.get_details()\n",
    "    return(next(item for item in space['resources'] if item['entity'][\"name\"]==space_name)['metadata']['id'])"
   ]
  },
  {
   "cell_type": "code",
   "execution_count": 10,
   "metadata": {},
   "outputs": [
    {
     "name": "stdout",
     "output_type": "stream",
     "text": [
      "Space UID = ea1df9bc-26a7-4028-b761-7ba667222aab\n"
     ]
    }
   ],
   "source": [
    "space_uid = guid_from_space_name(client, 'Vehicle')\n",
    "print(\"Space UID = \" + space_uid)\n"
   ]
  },
  {
   "cell_type": "code",
   "execution_count": 11,
   "metadata": {},
   "outputs": [
    {
     "data": {
      "text/plain": [
       "'SUCCESS'"
      ]
     },
     "execution_count": 11,
     "metadata": {},
     "output_type": "execute_result"
    }
   ],
   "source": [
    "client.set.default_space(space_uid)\n"
   ]
  },
  {
   "cell_type": "code",
   "execution_count": 12,
   "metadata": {},
   "outputs": [
    {
     "name": "stdout",
     "output_type": "stream",
     "text": [
      "-----------------------------  ------------------------------------  ----\n",
      "NAME                           ASSET_ID                              TYPE\n",
      "default_py3.6                  0062b8c9-8b7d-44a0-a9b9-46c416adcbd9  base\n",
      "kernel-spark3.2-scala2.12      020d69ce-7ac1-5e68-ac1a-31189867356a  base\n",
      "pytorch-onnx_1.3-py3.7-edt     069ea134-3346-5748-b513-49120e15d288  base\n",
      "scikit-learn_0.20-py3.6        09c5a1d0-9c1e-4473-a344-eb7b665ff687  base\n",
      "spark-mllib_3.0-scala_2.12     09f4cff0-90a7-5899-b9ed-1ef348aebdee  base\n",
      "pytorch-onnx_rt22.1-py3.9      0b848dd4-e681-5599-be41-b5f6fccc6471  base\n",
      "ai-function_0.1-py3.6          0cdb0f1e-5376-4f4d-92dd-da3b69aa9bda  base\n",
      "shiny-r3.6                     0e6e79df-875e-4f24-8ae9-62dcc2148306  base\n",
      "tensorflow_2.4-py3.7-horovod   1092590a-307d-563d-9b62-4eb7d64b3f22  base\n",
      "pytorch_1.1-py3.6              10ac12d6-6b30-4ccd-8392-3e922c096a92  base\n",
      "tensorflow_1.15-py3.6-ddl      111e41b3-de2d-5422-a4d6-bf776828c4b7  base\n",
      "autoai-kb_rt22.2-py3.10        125b6d9a-5b1f-5e8d-972a-b251688ccf40  base\n",
      "runtime-22.1-py3.9             12b83a17-24d8-5082-900f-0ab31fbfd3cb  base\n",
      "scikit-learn_0.22-py3.6        154010fa-5b3b-4ac1-82af-4d5ee5abbc85  base\n",
      "default_r3.6                   1b70aec3-ab34-4b87-8aa0-a4a3c8296a36  base\n",
      "pytorch-onnx_1.3-py3.6         1bc6029a-cc97-56da-b8e0-39c3880dbbe7  base\n",
      "kernel-spark3.3-r3.6           1c9e5454-f216-59dd-a20e-474a5cdf5988  base\n",
      "pytorch-onnx_rt22.1-py3.9-edt  1d362186-7ad5-5b59-8b6c-9d0880bde37f  base\n",
      "tensorflow_2.1-py3.6           1eb25b84-d6ed-5dde-b6a5-3fbdf1665666  base\n",
      "spark-mllib_3.2                20047f72-0a98-58c7-9ff5-a77b012eb8f5  base\n",
      "tensorflow_2.4-py3.8-horovod   217c16f6-178f-56bf-824a-b19f20564c49  base\n",
      "runtime-22.1-py3.9-cuda        26215f05-08c3-5a41-a1b0-da66306ce658  base\n",
      "do_py3.8                       295addb5-9ef9-547e-9bf4-92ae3563e720  base\n",
      "autoai-ts_3.8-py3.8            2aa0c932-798f-5ae9-abd6-15e0c2402fb5  base\n",
      "tensorflow_1.15-py3.6          2b73a275-7cbf-420b-a912-eae7f436e0bc  base\n",
      "kernel-spark3.3-py3.9          2b7961e2-e3b1-5a8c-a491-482c8368839a  base\n",
      "pytorch_1.2-py3.6              2c8ef57d-2687-4b7d-acce-01f94976dac1  base\n",
      "spark-mllib_2.3                2e51f700-bca0-4b0d-88dc-5c6791338875  base\n",
      "pytorch-onnx_1.1-py3.6-edt     32983cea-3f32-4400-8965-dde874a8d67e  base\n",
      "spark-mllib_3.0-py37           36507ebe-8770-55ba-ab2a-eafe787600e9  base\n",
      "spark-mllib_2.4                390d21f8-e58b-4fac-9c55-d7ceda621326  base\n",
      "autoai-ts_rt22.2-py3.10        396b2e83-0953-5b86-9a55-7ce1628a406f  base\n",
      "xgboost_0.82-py3.6             39e31acd-5f30-41dc-ae44-60233c80306e  base\n",
      "pytorch-onnx_1.2-py3.6-edt     40589d0e-7019-4e28-8daa-fb03b6f4fe12  base\n",
      "pytorch-onnx_rt22.2-py3.10     40e73f55-783a-5535-b3fa-0c8b94291431  base\n",
      "default_r36py38                41c247d3-45f8-5a71-b065-8580229facf0  base\n",
      "autoai-ts_rt22.1-py3.9         4269d26e-07ba-5d40-8f66-2d495b0c71f7  base\n",
      "autoai-obm_3.0                 42b92e18-d9ab-567f-988a-4240ba1ed5f7  base\n",
      "pmml-3.0_4.3                   493bcb95-16f1-5bc5-bee8-81b8af80e9c7  base\n",
      "spark-mllib_2.4-r_3.6          49403dff-92e9-4c87-a3d7-a42d0021c095  base\n",
      "xgboost_0.90-py3.6             4ff8d6c2-1343-4c18-85e1-689c965304d3  base\n",
      "pytorch-onnx_1.1-py3.6         50f95b2a-bc16-43bb-bc94-b0bed208c60b  base\n",
      "autoai-ts_3.9-py3.8            52c57136-80fa-572e-8728-a5e7cbb42cde  base\n",
      "spark-mllib_2.4-scala_2.11     55a70f99-7320-4be5-9fb9-9edb5a443af5  base\n",
      "spark-mllib_3.0                5c1b0ca2-4977-5c2e-9439-ffd44ea8ffe9  base\n",
      "autoai-obm_2.0                 5c2e37fa-80b8-5e77-840f-d912469614ee  base\n",
      "spss-modeler_18.1              5c3cad7e-507f-4b2a-a9a3-ab53a21dee8b  base\n",
      "cuda-py3.8                     5d3232bf-c86b-5df4-a2cd-7bb870a1cd4e  base\n",
      "autoai-kb_3.1-py3.7            632d4b22-10aa-5180-88f0-f52dfb6444d7  base\n",
      "pytorch-onnx_1.7-py3.8         634d3cdc-b562-5bf9-a2d4-ea90a478456b  base\n",
      "-----------------------------  ------------------------------------  ----\n",
      "Note: Only first 50 records were displayed. To display more use 'limit' parameter.\n"
     ]
    }
   ],
   "source": [
    "client.software_specifications.list()\n"
   ]
  },
  {
   "cell_type": "code",
   "execution_count": 36,
   "metadata": {},
   "outputs": [
    {
     "data": {
      "text/plain": [
       "'acd9c798-6974-5d2f-a657-ce06e986df4d'"
      ]
     },
     "execution_count": 36,
     "metadata": {},
     "output_type": "execute_result"
    }
   ],
   "source": [
    "software_space_uid = client.software_specifications.get_uid_by_name(\n",
    "    \"tensorflow_rt22.1-py3.9\")\n",
    "software_space_uid\n"
   ]
  },
  {
   "cell_type": "code",
   "execution_count": 33,
   "metadata": {},
   "outputs": [
    {
     "name": "stderr",
     "output_type": "stream",
     "text": [
      "a body.h5\n"
     ]
    }
   ],
   "source": [
    "!tar -zcvf body.tgz body.h5"
   ]
  },
  {
   "cell_type": "code",
   "execution_count": 34,
   "metadata": {},
   "outputs": [
    {
     "name": "stderr",
     "output_type": "stream",
     "text": [
      "a level.h5\n"
     ]
    }
   ],
   "source": [
    "!tar -zcvf level.tgz level.h5"
   ]
  },
  {
   "cell_type": "code",
   "execution_count": 39,
   "metadata": {},
   "outputs": [],
   "source": [
    "model_details = client.repository.store_model(model=\"body.tgz\",\n",
    "                                              meta_props={\n",
    "                                                  client.repository.ModelMetaNames.NAME: \"Body\",\n",
    "                                                  client.repository.ModelMetaNames.TYPE: \"tensorflow_2.7\",\n",
    "                                                  client.repository.ModelMetaNames.SOFTWARE_SPEC_UID: software_space_uid}\n",
    "                                              )\n"
   ]
  },
  {
   "cell_type": "code",
   "execution_count": 40,
   "metadata": {},
   "outputs": [],
   "source": [
    "model_details1 = client.repository.store_model(model=\"level.tgz\",\n",
    "                                              meta_props={\n",
    "                                                  client.repository.ModelMetaNames.NAME: \"Level\",\n",
    "                                                  client.repository.ModelMetaNames.TYPE: \"tensorflow_2.7\",\n",
    "                                                  client.repository.ModelMetaNames.SOFTWARE_SPEC_UID: software_space_uid}\n",
    "                                              )\n"
   ]
  },
  {
   "cell_type": "code",
   "execution_count": 41,
   "metadata": {},
   "outputs": [
    {
     "data": {
      "text/plain": [
       "'117f45e6-18f4-4400-aec6-01d195c10cfe'"
      ]
     },
     "execution_count": 41,
     "metadata": {},
     "output_type": "execute_result"
    }
   ],
   "source": [
    "model_id = client.repository.get_model_id(model_details)\n",
    "model_id\n"
   ]
  },
  {
   "cell_type": "code",
   "execution_count": 42,
   "metadata": {},
   "outputs": [
    {
     "data": {
      "text/plain": [
       "'8e1c2efe-378c-4474-b9fd-11116ea698ee'"
      ]
     },
     "execution_count": 42,
     "metadata": {},
     "output_type": "execute_result"
    }
   ],
   "source": [
    "model_id = client.repository.get_model_id(model_details1)\n",
    "model_id\n"
   ]
  }
 ],
 "metadata": {
  "kernelspec": {
   "display_name": "Python 3.10.1 64-bit",
   "language": "python",
   "name": "python3"
  },
  "language_info": {
   "codemirror_mode": {
    "name": "ipython",
    "version": 3
   },
   "file_extension": ".py",
   "mimetype": "text/x-python",
   "name": "python",
   "nbconvert_exporter": "python",
   "pygments_lexer": "ipython3",
   "version": "3.10.1"
  },
  "orig_nbformat": 4,
  "vscode": {
   "interpreter": {
    "hash": "695a388a4c2e020e22268ccf38be8173707e8975f5964aead99e22ad28ea09a9"
   }
  }
 },
 "nbformat": 4,
 "nbformat_minor": 2
}
