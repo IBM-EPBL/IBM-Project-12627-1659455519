{
  "cells": [
    {
      "cell_type": "markdown",
      "source": [
        "#Importing Dataset & Pre-Processing:😊"
      ],
      "metadata": {
        "id": "2140R1jEbXEt"
      }
    },
    {
      "cell_type": "code",
      "execution_count": null,
      "metadata": {
        "id": "SdsFFnjuapna"
      },
      "outputs": [],
      "source": [
        "from tensorflow.keras.preprocessing.image import ImageDataGenerator"
      ]
    },
    {
      "cell_type": "code",
      "execution_count": null,
      "metadata": {
        "id": "aqWAw5q8apne"
      },
      "outputs": [],
      "source": [
        "train_datagen=ImageDataGenerator(rescale=1./255,\n",
        "                                 shear_range=0.1,\n",
        "                                 zoom_range=0.1,\n",
        "                                 horizontal_flip=True)"
      ]
    },
    {
      "cell_type": "code",
      "execution_count": null,
      "metadata": {
        "id": "_s5ls-Wiapnf"
      },
      "outputs": [],
      "source": [
        "test_datagen=ImageDataGenerator(rescale=1./255)"
      ]
    },
    {
      "cell_type": "markdown",
      "source": [
        "#Separate Them As Classes"
      ],
      "metadata": {
        "id": "NNZMkygabqDV"
      }
    },
    {
      "cell_type": "code",
      "execution_count": null,
      "metadata": {
        "id": "F8Lmx6O_apng",
        "outputId": "863f0bd6-9c94-47cf-8829-a658f1b921de"
      },
      "outputs": [
        {
          "name": "stdout",
          "output_type": "stream",
          "text": [
            "Found 979 images belonging to 3 classes.\n",
            "Found 171 images belonging to 3 classes.\n"
          ]
        }
      ],
      "source": [
        "trainPath = \"../Dataset/Car damage/body/training\"\n",
        "testPath = \"../Dataset/Car damage/body/validation\"\n",
        "training_set=train_datagen.flow_from_directory(trainPath,\n",
        "                                               target_size=(224,224),\n",
        "                                               batch_size=10,\n",
        "                                               class_mode='categorical')\n",
        "test_set=test_datagen.flow_from_directory(testPath,\n",
        "                                               target_size=(224,224),\n",
        "                                               batch_size=10,\n",
        "                                               class_mode='categorical')"
      ]
    },
    {
      "cell_type": "code",
      "execution_count": null,
      "metadata": {
        "id": "ygutJHLkapnn",
        "outputId": "35dedfaa-d5a0-499e-ec71-2a2dac0704a1"
      },
      "outputs": [
        {
          "name": "stdout",
          "output_type": "stream",
          "text": [
            "Found 979 images belonging to 3 classes.\n",
            "Found 171 images belonging to 3 classes.\n"
          ]
        }
      ],
      "source": [
        "trainPath1 = \"../Dataset/Car damage/level/training\"\n",
        "testPath1 = \"../Dataset/Car damage/level/validation\"\n",
        "training_set1=train_datagen.flow_from_directory(trainPath1,\n",
        "                                               target_size=(224,224),\n",
        "                                               batch_size=10,\n",
        "                                               class_mode='categorical')\n",
        "test_set1=test_datagen.flow_from_directory(testPath1,\n",
        "                                               target_size=(224,224),\n",
        "                                               batch_size=10,\n",
        "                                               class_mode='categorical')"
      ]
    }
  ],
  "metadata": {
    "kernelspec": {
      "display_name": "Python 3.10.1 64-bit",
      "language": "python",
      "name": "python3"
    },
    "language_info": {
      "codemirror_mode": {
        "name": "ipython",
        "version": 3
      },
      "file_extension": ".py",
      "mimetype": "text/x-python",
      "name": "python",
      "nbconvert_exporter": "python",
      "pygments_lexer": "ipython3",
      "version": "3.10.1"
    },
    "orig_nbformat": 4,
    "vscode": {
      "interpreter": {
        "hash": "fdca3382253761908f5ccc1531889bf4867ea4dc34243de6c1b27b50c87f32d0"
      }
    },
    "colab": {
      "provenance": []
    }
  },
  "nbformat": 4,
  "nbformat_minor": 0
}